{
  "nbformat": 4,
  "nbformat_minor": 0,
  "metadata": {
    "colab": {
      "provenance": [],
      "authorship_tag": "ABX9TyPbJglVGD7GItJ+35uPdVe5",
      "include_colab_link": true
    },
    "kernelspec": {
      "name": "python3",
      "display_name": "Python 3"
    },
    "language_info": {
      "name": "python"
    }
  },
  "cells": [
    {
      "cell_type": "markdown",
      "metadata": {
        "id": "view-in-github",
        "colab_type": "text"
      },
      "source": [
        "<a href=\"https://colab.research.google.com/github/vincentkoc/oxf-loanapplication_agent-grpfull4/blob/main/oxf_loanapplication_agent_grpfull4_main_colabnotebook.ipynb\" target=\"_parent\"><img src=\"https://colab.research.google.com/assets/colab-badge.svg\" alt=\"Open In Colab\"/></a>"
      ]
    },
    {
      "cell_type": "markdown",
      "source": [
        "#Oxford AI Summit 2025 Group 4 Full code:\n",
        "\n",
        "*   Shad Bernard\n",
        "*   Dimple Francis\n",
        "*   Omer Gunes\n",
        "*   Onder Vincent Koc\n",
        "*   Hrishi Kulkarni\n",
        "*   Bastiyan Rodrigo\n"
      ],
      "metadata": {
        "id": "qwMzl5d8cIa6"
      }
    },
    {
      "cell_type": "markdown",
      "source": [
        "#Agent Orchestration Pattern:\n",
        "\n",
        "Our loan-workflow solution uses the Parallel Execution orchestration pattern by splitting compliance and fraud into two parallel, tool-backed agents, and then combining their outputs in a final decision step. We utilised the Parallel execution pattern in the following key ways:\n",
        "\n",
        "\n",
        "\n",
        "***Independent agents for orthogonal subtasks***\n",
        "\n",
        "We defined two specialized agents—compliance_agent (runs PEP/sanctions, identity, affordability, source-of-wealth, phone checks) and fraud_agent (computes a fraud score and flags)—that operate on the same input application but address completely different concerns. Each agent is free to run its full battery of checks without waiting on the other.\n",
        "\n",
        "***Concurrent invocation via asyncio.gather***\n",
        "\n",
        "\n",
        "\n",
        "```\n",
        "compliance_task = Runner.run(compliance_agent, compliance_prompt)\n",
        "fraud_task      = Runner.run(fraud_agent, fraud_prompt)\n",
        "results         = await asyncio.gather(compliance_task, fraud_task)\n",
        "```\n",
        "Here both agents are spun up at once in separate async tasks, then await-ed together. This reduces end-to-end latency compared to calling one after the other.\n",
        "\n",
        "***Aggregation step***\n",
        "\n",
        " Once both tasks complete, we immediately unpack their outputs into the shared state:\n",
        "\n",
        "```\n",
        "state[\"compliance_result\"] = results[0].final_output\n",
        "state[\"fraud_result\"]      = results[1].final_output\n",
        "```\n",
        "\n",
        "That consolidated state then feeds into the downstream decision_agent, which acts as our “aggregator”—merging the two independent analyses into one final decision.\n",
        "\n",
        "***Final agent for synthesis***\n",
        "\n",
        "The decision_agent receives both compliance and fraud results together and returns a single structured verdict. That mirrors the classic “parallel-then-merge” flow: run multiples in parallel, then unify."
      ],
      "metadata": {
        "id": "EiSrgtdQdiCr"
      }
    },
    {
      "cell_type": "markdown",
      "source": [
        "#Iterations & Improvements:\n",
        "\n",
        "**Removed decorator for Postcode validator**\n",
        "\n",
        "Initially, the fraud check was returning the following error:\n",
        "\n",
        "```\n",
        "Fraud result: {\"fraud_score\":1.0,\"flags\":[\"An error occurred while trying to perform the fraud detection. Please try again later.\"]}\n",
        "```\n",
        "\n",
        "This is because the uk_postcode_validator function that was being called from the fraud_detection tool was decorated as a function_tool. Removing this decoration allowed uk_postcode_validator to be called successfully as an ordinary python fuction.\n",
        "\n",
        "**Told agent not to provide any json formatting**\n",
        "\n",
        "The decision agent was failing with the following error:\n",
        "\n",
        "```\n",
        "[Decision Agent] LLM failed: Decision agent output is not a dict.. Using fallback logic.\n",
        "```\n",
        "\n",
        "This was caused because the decision agent was wrapping its JSON output in markdown, which then caused json.loads to fail to convert the JSON string into a dict. This was resolved by instructing the decision agent not to include any markdown in its response.\n",
        "\n",
        "**Fuzzy logic for name checking**\n",
        "\n",
        "Our initial solution used exact matching for fraudulent name checks. We improved upon this by implementing a fuzzy logic check, which flags up names that are similar to those on the fraudulent_names list, for manual verification.\n",
        "\n",
        "**Affordability check improvement**\n",
        "\n",
        "Our initial solution used used a trivial affordability check: pass if loan amount is less than half of income, else fail. We improved upon this, by including a intermediate band, which would require manual approval, and also by setting a minimum income level for loan approvals.\n"
      ],
      "metadata": {
        "id": "9Jyko1EOPAz4"
      }
    },
    {
      "cell_type": "markdown",
      "source": [
        "#Upload Requirements\n",
        "\n",
        "Upload Requirements.txt file"
      ],
      "metadata": {
        "id": "pwQT86o-vd4T"
      }
    },
    {
      "cell_type": "code",
      "execution_count": 54,
      "metadata": {
        "id": "Vps6cAZ6uVTA",
        "colab": {
          "base_uri": "https://localhost:8080/",
          "height": 92
        },
        "outputId": "ed43261b-6c3c-47a9-eeb3-02c5ba0464f9"
      },
      "outputs": [
        {
          "output_type": "display_data",
          "data": {
            "text/plain": [
              "<IPython.core.display.HTML object>"
            ],
            "text/html": [
              "\n",
              "     <input type=\"file\" id=\"files-18428832-008d-4a93-90e3-9cf3316deaf8\" name=\"files[]\" multiple disabled\n",
              "        style=\"border:none\" />\n",
              "     <output id=\"result-18428832-008d-4a93-90e3-9cf3316deaf8\">\n",
              "      Upload widget is only available when the cell has been executed in the\n",
              "      current browser session. Please rerun this cell to enable.\n",
              "      </output>\n",
              "      <script>// Copyright 2017 Google LLC\n",
              "//\n",
              "// Licensed under the Apache License, Version 2.0 (the \"License\");\n",
              "// you may not use this file except in compliance with the License.\n",
              "// You may obtain a copy of the License at\n",
              "//\n",
              "//      http://www.apache.org/licenses/LICENSE-2.0\n",
              "//\n",
              "// Unless required by applicable law or agreed to in writing, software\n",
              "// distributed under the License is distributed on an \"AS IS\" BASIS,\n",
              "// WITHOUT WARRANTIES OR CONDITIONS OF ANY KIND, either express or implied.\n",
              "// See the License for the specific language governing permissions and\n",
              "// limitations under the License.\n",
              "\n",
              "/**\n",
              " * @fileoverview Helpers for google.colab Python module.\n",
              " */\n",
              "(function(scope) {\n",
              "function span(text, styleAttributes = {}) {\n",
              "  const element = document.createElement('span');\n",
              "  element.textContent = text;\n",
              "  for (const key of Object.keys(styleAttributes)) {\n",
              "    element.style[key] = styleAttributes[key];\n",
              "  }\n",
              "  return element;\n",
              "}\n",
              "\n",
              "// Max number of bytes which will be uploaded at a time.\n",
              "const MAX_PAYLOAD_SIZE = 100 * 1024;\n",
              "\n",
              "function _uploadFiles(inputId, outputId) {\n",
              "  const steps = uploadFilesStep(inputId, outputId);\n",
              "  const outputElement = document.getElementById(outputId);\n",
              "  // Cache steps on the outputElement to make it available for the next call\n",
              "  // to uploadFilesContinue from Python.\n",
              "  outputElement.steps = steps;\n",
              "\n",
              "  return _uploadFilesContinue(outputId);\n",
              "}\n",
              "\n",
              "// This is roughly an async generator (not supported in the browser yet),\n",
              "// where there are multiple asynchronous steps and the Python side is going\n",
              "// to poll for completion of each step.\n",
              "// This uses a Promise to block the python side on completion of each step,\n",
              "// then passes the result of the previous step as the input to the next step.\n",
              "function _uploadFilesContinue(outputId) {\n",
              "  const outputElement = document.getElementById(outputId);\n",
              "  const steps = outputElement.steps;\n",
              "\n",
              "  const next = steps.next(outputElement.lastPromiseValue);\n",
              "  return Promise.resolve(next.value.promise).then((value) => {\n",
              "    // Cache the last promise value to make it available to the next\n",
              "    // step of the generator.\n",
              "    outputElement.lastPromiseValue = value;\n",
              "    return next.value.response;\n",
              "  });\n",
              "}\n",
              "\n",
              "/**\n",
              " * Generator function which is called between each async step of the upload\n",
              " * process.\n",
              " * @param {string} inputId Element ID of the input file picker element.\n",
              " * @param {string} outputId Element ID of the output display.\n",
              " * @return {!Iterable<!Object>} Iterable of next steps.\n",
              " */\n",
              "function* uploadFilesStep(inputId, outputId) {\n",
              "  const inputElement = document.getElementById(inputId);\n",
              "  inputElement.disabled = false;\n",
              "\n",
              "  const outputElement = document.getElementById(outputId);\n",
              "  outputElement.innerHTML = '';\n",
              "\n",
              "  const pickedPromise = new Promise((resolve) => {\n",
              "    inputElement.addEventListener('change', (e) => {\n",
              "      resolve(e.target.files);\n",
              "    });\n",
              "  });\n",
              "\n",
              "  const cancel = document.createElement('button');\n",
              "  inputElement.parentElement.appendChild(cancel);\n",
              "  cancel.textContent = 'Cancel upload';\n",
              "  const cancelPromise = new Promise((resolve) => {\n",
              "    cancel.onclick = () => {\n",
              "      resolve(null);\n",
              "    };\n",
              "  });\n",
              "\n",
              "  // Wait for the user to pick the files.\n",
              "  const files = yield {\n",
              "    promise: Promise.race([pickedPromise, cancelPromise]),\n",
              "    response: {\n",
              "      action: 'starting',\n",
              "    }\n",
              "  };\n",
              "\n",
              "  cancel.remove();\n",
              "\n",
              "  // Disable the input element since further picks are not allowed.\n",
              "  inputElement.disabled = true;\n",
              "\n",
              "  if (!files) {\n",
              "    return {\n",
              "      response: {\n",
              "        action: 'complete',\n",
              "      }\n",
              "    };\n",
              "  }\n",
              "\n",
              "  for (const file of files) {\n",
              "    const li = document.createElement('li');\n",
              "    li.append(span(file.name, {fontWeight: 'bold'}));\n",
              "    li.append(span(\n",
              "        `(${file.type || 'n/a'}) - ${file.size} bytes, ` +\n",
              "        `last modified: ${\n",
              "            file.lastModifiedDate ? file.lastModifiedDate.toLocaleDateString() :\n",
              "                                    'n/a'} - `));\n",
              "    const percent = span('0% done');\n",
              "    li.appendChild(percent);\n",
              "\n",
              "    outputElement.appendChild(li);\n",
              "\n",
              "    const fileDataPromise = new Promise((resolve) => {\n",
              "      const reader = new FileReader();\n",
              "      reader.onload = (e) => {\n",
              "        resolve(e.target.result);\n",
              "      };\n",
              "      reader.readAsArrayBuffer(file);\n",
              "    });\n",
              "    // Wait for the data to be ready.\n",
              "    let fileData = yield {\n",
              "      promise: fileDataPromise,\n",
              "      response: {\n",
              "        action: 'continue',\n",
              "      }\n",
              "    };\n",
              "\n",
              "    // Use a chunked sending to avoid message size limits. See b/62115660.\n",
              "    let position = 0;\n",
              "    do {\n",
              "      const length = Math.min(fileData.byteLength - position, MAX_PAYLOAD_SIZE);\n",
              "      const chunk = new Uint8Array(fileData, position, length);\n",
              "      position += length;\n",
              "\n",
              "      const base64 = btoa(String.fromCharCode.apply(null, chunk));\n",
              "      yield {\n",
              "        response: {\n",
              "          action: 'append',\n",
              "          file: file.name,\n",
              "          data: base64,\n",
              "        },\n",
              "      };\n",
              "\n",
              "      let percentDone = fileData.byteLength === 0 ?\n",
              "          100 :\n",
              "          Math.round((position / fileData.byteLength) * 100);\n",
              "      percent.textContent = `${percentDone}% done`;\n",
              "\n",
              "    } while (position < fileData.byteLength);\n",
              "  }\n",
              "\n",
              "  // All done.\n",
              "  yield {\n",
              "    response: {\n",
              "      action: 'complete',\n",
              "    }\n",
              "  };\n",
              "}\n",
              "\n",
              "scope.google = scope.google || {};\n",
              "scope.google.colab = scope.google.colab || {};\n",
              "scope.google.colab._files = {\n",
              "  _uploadFiles,\n",
              "  _uploadFilesContinue,\n",
              "};\n",
              "})(self);\n",
              "</script> "
            ]
          },
          "metadata": {}
        },
        {
          "output_type": "stream",
          "name": "stdout",
          "text": [
            "Saving requirements.txt to requirements (4).txt\n",
            "User uploaded file \"requirements (4).txt\" with length 68 bytes\n"
          ]
        }
      ],
      "source": [
        "from google.colab import files\n",
        "\n",
        "uploaded = files.upload()\n",
        "\n",
        "for fn in uploaded.keys():\n",
        "  print('User uploaded file \"{name}\" with length {length} bytes'.format(\n",
        "      name=fn, length=len(uploaded[fn])))"
      ]
    },
    {
      "cell_type": "markdown",
      "source": [
        "#Install Requirements\n",
        "\n",
        "Install requirements.txt to ensure that all project dependencies are pulled in before they are used."
      ],
      "metadata": {
        "id": "axdObVXzEEe7"
      }
    },
    {
      "cell_type": "code",
      "source": [
        "!pip install -r requirements.txt"
      ],
      "metadata": {
        "colab": {
          "base_uri": "https://localhost:8080/"
        },
        "id": "_lWFihHQfreS",
        "outputId": "02569db1-5de2-4d23-b7e3-dbbd00259e7c"
      },
      "execution_count": 55,
      "outputs": [
        {
          "output_type": "stream",
          "name": "stdout",
          "text": [
            "Requirement already satisfied: openai-agents==0.1.0 in /usr/local/lib/python3.11/dist-packages (from -r requirements.txt (line 1)) (0.1.0)\n",
            "Requirement already satisfied: openai==1.93.0 in /usr/local/lib/python3.11/dist-packages (from -r requirements.txt (line 2)) (1.93.0)\n",
            "Requirement already satisfied: opik==1.7.40 in /usr/local/lib/python3.11/dist-packages (from -r requirements.txt (line 3)) (1.7.40)\n",
            "Requirement already satisfied: phonenumbers==9.0.8 in /usr/local/lib/python3.11/dist-packages (from -r requirements.txt (line 4)) (9.0.8)\n",
            "Requirement already satisfied: griffe<2,>=1.5.6 in /usr/local/lib/python3.11/dist-packages (from openai-agents==0.1.0->-r requirements.txt (line 1)) (1.7.3)\n",
            "Requirement already satisfied: mcp<2,>=1.9.4 in /usr/local/lib/python3.11/dist-packages (from openai-agents==0.1.0->-r requirements.txt (line 1)) (1.10.1)\n",
            "Requirement already satisfied: pydantic<3,>=2.10 in /usr/local/lib/python3.11/dist-packages (from openai-agents==0.1.0->-r requirements.txt (line 1)) (2.11.7)\n",
            "Requirement already satisfied: requests<3,>=2.0 in /usr/local/lib/python3.11/dist-packages (from openai-agents==0.1.0->-r requirements.txt (line 1)) (2.32.3)\n",
            "Requirement already satisfied: types-requests<3,>=2.0 in /usr/local/lib/python3.11/dist-packages (from openai-agents==0.1.0->-r requirements.txt (line 1)) (2.32.4.20250611)\n",
            "Requirement already satisfied: typing-extensions<5,>=4.12.2 in /usr/local/lib/python3.11/dist-packages (from openai-agents==0.1.0->-r requirements.txt (line 1)) (4.14.0)\n",
            "Requirement already satisfied: anyio<5,>=3.5.0 in /usr/local/lib/python3.11/dist-packages (from openai==1.93.0->-r requirements.txt (line 2)) (4.9.0)\n",
            "Requirement already satisfied: distro<2,>=1.7.0 in /usr/local/lib/python3.11/dist-packages (from openai==1.93.0->-r requirements.txt (line 2)) (1.9.0)\n",
            "Requirement already satisfied: httpx<1,>=0.23.0 in /usr/local/lib/python3.11/dist-packages (from openai==1.93.0->-r requirements.txt (line 2)) (0.28.1)\n",
            "Requirement already satisfied: jiter<1,>=0.4.0 in /usr/local/lib/python3.11/dist-packages (from openai==1.93.0->-r requirements.txt (line 2)) (0.10.0)\n",
            "Requirement already satisfied: sniffio in /usr/local/lib/python3.11/dist-packages (from openai==1.93.0->-r requirements.txt (line 2)) (1.3.1)\n",
            "Requirement already satisfied: tqdm>4 in /usr/local/lib/python3.11/dist-packages (from openai==1.93.0->-r requirements.txt (line 2)) (4.67.1)\n",
            "Requirement already satisfied: boto3-stubs>=1.34.110 in /usr/local/lib/python3.11/dist-packages (from boto3-stubs[bedrock-runtime]>=1.34.110->opik==1.7.40->-r requirements.txt (line 3)) (1.39.3)\n",
            "Requirement already satisfied: click in /usr/local/lib/python3.11/dist-packages (from opik==1.7.40->-r requirements.txt (line 3)) (8.2.1)\n",
            "Requirement already satisfied: rapidfuzz<4.0.0,>=3.0.0 in /usr/local/lib/python3.11/dist-packages (from opik==1.7.40->-r requirements.txt (line 3)) (3.13.0)\n",
            "Requirement already satisfied: litellm in /usr/local/lib/python3.11/dist-packages (from opik==1.7.40->-r requirements.txt (line 3)) (1.74.0)\n",
            "Requirement already satisfied: pydantic-settings!=2.9.0,<3.0.0,>=2.0.0 in /usr/local/lib/python3.11/dist-packages (from opik==1.7.40->-r requirements.txt (line 3)) (2.10.1)\n",
            "Requirement already satisfied: pytest in /usr/local/lib/python3.11/dist-packages (from opik==1.7.40->-r requirements.txt (line 3)) (8.3.5)\n",
            "Requirement already satisfied: rich in /usr/local/lib/python3.11/dist-packages (from opik==1.7.40->-r requirements.txt (line 3)) (13.9.4)\n",
            "Requirement already satisfied: sentry_sdk>=2.0.0 in /usr/local/lib/python3.11/dist-packages (from opik==1.7.40->-r requirements.txt (line 3)) (2.32.0)\n",
            "Requirement already satisfied: tenacity in /usr/local/lib/python3.11/dist-packages (from opik==1.7.40->-r requirements.txt (line 3)) (8.5.0)\n",
            "Requirement already satisfied: uuid6 in /usr/local/lib/python3.11/dist-packages (from opik==1.7.40->-r requirements.txt (line 3)) (2025.0.1)\n",
            "Requirement already satisfied: jinja2 in /usr/local/lib/python3.11/dist-packages (from opik==1.7.40->-r requirements.txt (line 3)) (3.1.6)\n",
            "Requirement already satisfied: idna>=2.8 in /usr/local/lib/python3.11/dist-packages (from anyio<5,>=3.5.0->openai==1.93.0->-r requirements.txt (line 2)) (3.10)\n",
            "Requirement already satisfied: botocore-stubs in /usr/local/lib/python3.11/dist-packages (from boto3-stubs>=1.34.110->boto3-stubs[bedrock-runtime]>=1.34.110->opik==1.7.40->-r requirements.txt (line 3)) (1.38.46)\n",
            "Requirement already satisfied: types-s3transfer in /usr/local/lib/python3.11/dist-packages (from boto3-stubs>=1.34.110->boto3-stubs[bedrock-runtime]>=1.34.110->opik==1.7.40->-r requirements.txt (line 3)) (0.13.0)\n",
            "Requirement already satisfied: mypy-boto3-bedrock-runtime<1.40.0,>=1.39.0 in /usr/local/lib/python3.11/dist-packages (from boto3-stubs[bedrock-runtime]>=1.34.110->opik==1.7.40->-r requirements.txt (line 3)) (1.39.0)\n",
            "Requirement already satisfied: colorama>=0.4 in /usr/local/lib/python3.11/dist-packages (from griffe<2,>=1.5.6->openai-agents==0.1.0->-r requirements.txt (line 1)) (0.4.6)\n",
            "Requirement already satisfied: certifi in /usr/local/lib/python3.11/dist-packages (from httpx<1,>=0.23.0->openai==1.93.0->-r requirements.txt (line 2)) (2025.6.15)\n",
            "Requirement already satisfied: httpcore==1.* in /usr/local/lib/python3.11/dist-packages (from httpx<1,>=0.23.0->openai==1.93.0->-r requirements.txt (line 2)) (1.0.9)\n",
            "Requirement already satisfied: h11>=0.16 in /usr/local/lib/python3.11/dist-packages (from httpcore==1.*->httpx<1,>=0.23.0->openai==1.93.0->-r requirements.txt (line 2)) (0.16.0)\n",
            "Requirement already satisfied: httpx-sse>=0.4 in /usr/local/lib/python3.11/dist-packages (from mcp<2,>=1.9.4->openai-agents==0.1.0->-r requirements.txt (line 1)) (0.4.1)\n",
            "Requirement already satisfied: jsonschema>=4.20.0 in /usr/local/lib/python3.11/dist-packages (from mcp<2,>=1.9.4->openai-agents==0.1.0->-r requirements.txt (line 1)) (4.24.0)\n",
            "Requirement already satisfied: python-multipart>=0.0.9 in /usr/local/lib/python3.11/dist-packages (from mcp<2,>=1.9.4->openai-agents==0.1.0->-r requirements.txt (line 1)) (0.0.20)\n",
            "Requirement already satisfied: sse-starlette>=1.6.1 in /usr/local/lib/python3.11/dist-packages (from mcp<2,>=1.9.4->openai-agents==0.1.0->-r requirements.txt (line 1)) (2.3.6)\n",
            "Requirement already satisfied: starlette>=0.27 in /usr/local/lib/python3.11/dist-packages (from mcp<2,>=1.9.4->openai-agents==0.1.0->-r requirements.txt (line 1)) (0.46.2)\n",
            "Requirement already satisfied: uvicorn>=0.23.1 in /usr/local/lib/python3.11/dist-packages (from mcp<2,>=1.9.4->openai-agents==0.1.0->-r requirements.txt (line 1)) (0.35.0)\n",
            "Requirement already satisfied: annotated-types>=0.6.0 in /usr/local/lib/python3.11/dist-packages (from pydantic<3,>=2.10->openai-agents==0.1.0->-r requirements.txt (line 1)) (0.7.0)\n",
            "Requirement already satisfied: pydantic-core==2.33.2 in /usr/local/lib/python3.11/dist-packages (from pydantic<3,>=2.10->openai-agents==0.1.0->-r requirements.txt (line 1)) (2.33.2)\n",
            "Requirement already satisfied: typing-inspection>=0.4.0 in /usr/local/lib/python3.11/dist-packages (from pydantic<3,>=2.10->openai-agents==0.1.0->-r requirements.txt (line 1)) (0.4.1)\n",
            "Requirement already satisfied: python-dotenv>=0.21.0 in /usr/local/lib/python3.11/dist-packages (from pydantic-settings!=2.9.0,<3.0.0,>=2.0.0->opik==1.7.40->-r requirements.txt (line 3)) (1.1.1)\n",
            "Requirement already satisfied: charset-normalizer<4,>=2 in /usr/local/lib/python3.11/dist-packages (from requests<3,>=2.0->openai-agents==0.1.0->-r requirements.txt (line 1)) (3.4.2)\n",
            "Requirement already satisfied: urllib3<3,>=1.21.1 in /usr/local/lib/python3.11/dist-packages (from requests<3,>=2.0->openai-agents==0.1.0->-r requirements.txt (line 1)) (2.4.0)\n",
            "Requirement already satisfied: MarkupSafe>=2.0 in /usr/local/lib/python3.11/dist-packages (from jinja2->opik==1.7.40->-r requirements.txt (line 3)) (3.0.2)\n",
            "Requirement already satisfied: aiohttp>=3.10 in /usr/local/lib/python3.11/dist-packages (from litellm->opik==1.7.40->-r requirements.txt (line 3)) (3.11.15)\n",
            "Requirement already satisfied: importlib-metadata>=6.8.0 in /usr/local/lib/python3.11/dist-packages (from litellm->opik==1.7.40->-r requirements.txt (line 3)) (8.7.0)\n",
            "Requirement already satisfied: tiktoken>=0.7.0 in /usr/local/lib/python3.11/dist-packages (from litellm->opik==1.7.40->-r requirements.txt (line 3)) (0.9.0)\n",
            "Requirement already satisfied: tokenizers in /usr/local/lib/python3.11/dist-packages (from litellm->opik==1.7.40->-r requirements.txt (line 3)) (0.21.2)\n",
            "Requirement already satisfied: iniconfig in /usr/local/lib/python3.11/dist-packages (from pytest->opik==1.7.40->-r requirements.txt (line 3)) (2.1.0)\n",
            "Requirement already satisfied: packaging in /usr/local/lib/python3.11/dist-packages (from pytest->opik==1.7.40->-r requirements.txt (line 3)) (24.2)\n",
            "Requirement already satisfied: pluggy<2,>=1.5 in /usr/local/lib/python3.11/dist-packages (from pytest->opik==1.7.40->-r requirements.txt (line 3)) (1.6.0)\n",
            "Requirement already satisfied: markdown-it-py>=2.2.0 in /usr/local/lib/python3.11/dist-packages (from rich->opik==1.7.40->-r requirements.txt (line 3)) (3.0.0)\n",
            "Requirement already satisfied: pygments<3.0.0,>=2.13.0 in /usr/local/lib/python3.11/dist-packages (from rich->opik==1.7.40->-r requirements.txt (line 3)) (2.19.2)\n",
            "Requirement already satisfied: aiohappyeyeballs>=2.3.0 in /usr/local/lib/python3.11/dist-packages (from aiohttp>=3.10->litellm->opik==1.7.40->-r requirements.txt (line 3)) (2.6.1)\n",
            "Requirement already satisfied: aiosignal>=1.1.2 in /usr/local/lib/python3.11/dist-packages (from aiohttp>=3.10->litellm->opik==1.7.40->-r requirements.txt (line 3)) (1.3.2)\n",
            "Requirement already satisfied: attrs>=17.3.0 in /usr/local/lib/python3.11/dist-packages (from aiohttp>=3.10->litellm->opik==1.7.40->-r requirements.txt (line 3)) (25.3.0)\n",
            "Requirement already satisfied: frozenlist>=1.1.1 in /usr/local/lib/python3.11/dist-packages (from aiohttp>=3.10->litellm->opik==1.7.40->-r requirements.txt (line 3)) (1.7.0)\n",
            "Requirement already satisfied: multidict<7.0,>=4.5 in /usr/local/lib/python3.11/dist-packages (from aiohttp>=3.10->litellm->opik==1.7.40->-r requirements.txt (line 3)) (6.6.3)\n",
            "Requirement already satisfied: propcache>=0.2.0 in /usr/local/lib/python3.11/dist-packages (from aiohttp>=3.10->litellm->opik==1.7.40->-r requirements.txt (line 3)) (0.3.2)\n",
            "Requirement already satisfied: yarl<2.0,>=1.17.0 in /usr/local/lib/python3.11/dist-packages (from aiohttp>=3.10->litellm->opik==1.7.40->-r requirements.txt (line 3)) (1.20.1)\n",
            "Requirement already satisfied: zipp>=3.20 in /usr/local/lib/python3.11/dist-packages (from importlib-metadata>=6.8.0->litellm->opik==1.7.40->-r requirements.txt (line 3)) (3.23.0)\n",
            "Requirement already satisfied: jsonschema-specifications>=2023.03.6 in /usr/local/lib/python3.11/dist-packages (from jsonschema>=4.20.0->mcp<2,>=1.9.4->openai-agents==0.1.0->-r requirements.txt (line 1)) (2025.4.1)\n",
            "Requirement already satisfied: referencing>=0.28.4 in /usr/local/lib/python3.11/dist-packages (from jsonschema>=4.20.0->mcp<2,>=1.9.4->openai-agents==0.1.0->-r requirements.txt (line 1)) (0.36.2)\n",
            "Requirement already satisfied: rpds-py>=0.7.1 in /usr/local/lib/python3.11/dist-packages (from jsonschema>=4.20.0->mcp<2,>=1.9.4->openai-agents==0.1.0->-r requirements.txt (line 1)) (0.26.0)\n",
            "Requirement already satisfied: mdurl~=0.1 in /usr/local/lib/python3.11/dist-packages (from markdown-it-py>=2.2.0->rich->opik==1.7.40->-r requirements.txt (line 3)) (0.1.2)\n",
            "Requirement already satisfied: regex>=2022.1.18 in /usr/local/lib/python3.11/dist-packages (from tiktoken>=0.7.0->litellm->opik==1.7.40->-r requirements.txt (line 3)) (2024.11.6)\n",
            "Requirement already satisfied: types-awscrt in /usr/local/lib/python3.11/dist-packages (from botocore-stubs->boto3-stubs>=1.34.110->boto3-stubs[bedrock-runtime]>=1.34.110->opik==1.7.40->-r requirements.txt (line 3)) (0.27.4)\n",
            "Requirement already satisfied: huggingface-hub<1.0,>=0.16.4 in /usr/local/lib/python3.11/dist-packages (from tokenizers->litellm->opik==1.7.40->-r requirements.txt (line 3)) (0.33.1)\n",
            "Requirement already satisfied: filelock in /usr/local/lib/python3.11/dist-packages (from huggingface-hub<1.0,>=0.16.4->tokenizers->litellm->opik==1.7.40->-r requirements.txt (line 3)) (3.18.0)\n",
            "Requirement already satisfied: fsspec>=2023.5.0 in /usr/local/lib/python3.11/dist-packages (from huggingface-hub<1.0,>=0.16.4->tokenizers->litellm->opik==1.7.40->-r requirements.txt (line 3)) (2025.3.2)\n",
            "Requirement already satisfied: pyyaml>=5.1 in /usr/local/lib/python3.11/dist-packages (from huggingface-hub<1.0,>=0.16.4->tokenizers->litellm->opik==1.7.40->-r requirements.txt (line 3)) (6.0.2)\n",
            "Requirement already satisfied: hf-xet<2.0.0,>=1.1.2 in /usr/local/lib/python3.11/dist-packages (from huggingface-hub<1.0,>=0.16.4->tokenizers->litellm->opik==1.7.40->-r requirements.txt (line 3)) (1.1.5)\n"
          ]
        }
      ]
    },
    {
      "cell_type": "markdown",
      "source": [
        "#Import OpenAI Key"
      ],
      "metadata": {
        "id": "gFolgftfEKHc"
      }
    },
    {
      "cell_type": "code",
      "source": [
        "from google.colab import userdata\n",
        "import os\n",
        "\n",
        "openai_key = userdata.get('OPENAI_API_KEY')\n",
        "os.environ['OPENAI_API_KEY'] = openai_key"
      ],
      "metadata": {
        "id": "zZcpk2m6jJ3R"
      },
      "execution_count": 56,
      "outputs": []
    },
    {
      "cell_type": "markdown",
      "source": [
        "#Core Environment & Dependencies\n",
        "\n",
        "This opening block sets up the core environment and dependencies for the Hybrid Agentic Loan Workflow: it imports Python’s asyncio for asynchronous orchestration and patches Colab’s event loop with nest_asyncio.apply(), pulls in typing helpers (TypedDict, Optional, List, Literal) for strict data shapes, brings in the Agent SDK (Agent, Runner, function_tool), and loads utility libraries for regex (re), fuzzy matching (rapidfuzz), phone-number parsing (phonenumbers), and JSON handling. Together, these imports and the nest_asyncio call prepare the notebook to run concurrent agents that parse, validate, and process loan applications."
      ],
      "metadata": {
        "id": "rhbo4SXyDRUR"
      }
    },
    {
      "cell_type": "code",
      "source": [
        "\n",
        "\n",
        "import asyncio, nest_asyncio\n",
        "from typing_extensions import TypedDict\n",
        "from typing import Optional, List, Literal\n",
        "from agents import Agent, Runner, function_tool\n",
        "import re\n",
        "from rapidfuzz import fuzz, process\n",
        "import phonenumbers\n",
        "from phonenumbers.phonenumberutil import NumberParseException\n",
        "import json\n",
        "\n",
        "nest_asyncio.apply()"
      ],
      "metadata": {
        "id": "YI92cA-TNri8"
      },
      "execution_count": 57,
      "outputs": []
    },
    {
      "cell_type": "markdown",
      "source": [
        "#Data Schema & Mock Data\n",
        "\n",
        "This segment establishes all of the data schemas and mock data the agents will use:\n",
        "\n",
        "It defines AppState (the shared state object that carries the application data, status flags, results, alerts, and metrics through the workflow) and ApplicationData (the exact shape of the incoming loan request). Then it declares TypedDict return-value schemas for each of the tools (PepSanctionResult, IdentityVerificationResult, AffordabilityResult, SourceOfWealthResult, FraudDetectionResult, and SendAlertResult), ensuring type safety and clear contracts. Finally, it provides a hard-coded FRAUDULENT_NAMES list that the fraud detector will use to flag known or suspicious applicants."
      ],
      "metadata": {
        "id": "PclMrxL-Ddk_"
      }
    },
    {
      "cell_type": "code",
      "source": [
        "# ---------------------------\n",
        "# Define the shared state\n",
        "# ---------------------------\n",
        "class AppState(TypedDict):\n",
        "    application_data: dict\n",
        "    status: str\n",
        "    compliance_result: Optional[dict]\n",
        "    fraud_result: Optional[dict]\n",
        "    decision_result: Optional[str]\n",
        "    decision_reason: Optional[str]\n",
        "    alerts: List[str]\n",
        "    alert_summary: Optional[str]\n",
        "    metrics: dict\n",
        "\n",
        "\n",
        "# ---------------------------\n",
        "# ApplicationData TypedDict\n",
        "# ---------------------------\n",
        "\n",
        "class ApplicationData(TypedDict):\n",
        "    full_name: str\n",
        "    income: int\n",
        "    loan_amount: int\n",
        "    document_id: str\n",
        "    source_of_wealth: str\n",
        "    postcode: str\n",
        "    phone_number: str\n",
        "\n",
        "\n",
        "# ---------------------------\n",
        "# Tool Output TypedDicts\n",
        "# ---------------------------\n",
        "\n",
        "class PepSanctionResult(TypedDict):\n",
        "    status: Literal[\"pass\", \"fail\", \"manual_verification\"]\n",
        "    reason: Optional[str]\n",
        "\n",
        "class IdentityVerificationResult(TypedDict):\n",
        "    status: Literal[\"pass\", \"fail\"]\n",
        "    reason: Optional[str]\n",
        "\n",
        "class AffordabilityResult(TypedDict):\n",
        "    status: Literal[\"pass\", \"fail\", \"manual_verification\"]\n",
        "    reason: Optional[str]\n",
        "\n",
        "class SourceOfWealthResult(TypedDict):\n",
        "    status: Literal[\"pass\", \"fail\"]\n",
        "    reason: Optional[str]\n",
        "\n",
        "class FraudDetectionResult(TypedDict):\n",
        "    fraud_score: float\n",
        "    flags: List[str]\n",
        "\n",
        "class SendAlertResult(TypedDict):\n",
        "    status: str\n",
        "\n",
        "# ---------------------------\n",
        "# Mock Data for Fraud detection\n",
        "# ---------------------------\n",
        "\n",
        "FRAUDULENT_NAMES = [\n",
        "    \"john shady\",\n",
        "    \"anna dodgy\",\n",
        "    \"mr sanction\",\n",
        "    \"lisa scammer\",\n",
        "    \"peter fraudwell\",\n",
        "    \"olga blacklist\",\n",
        "    \"ivan launder\",\n",
        "    \"maria suspect\",\n",
        "    \"tony riskman\",\n",
        "    \"sarah shell\",\n",
        "    \"viktor mule\",\n",
        "    \"nina fakeid\",\n",
        "    \"george bribe\",\n",
        "    \"lucy offshor\",\n",
        "    \"mohammed sanction\",\n",
        "    \"jane alias\",\n",
        "    \"david ghost\",\n",
        "    \"emily shadow\",\n",
        "    \"frankie wire\",\n",
        "    \"sophia mule\"\n",
        "]"
      ],
      "metadata": {
        "id": "bcV-2dv7NybL"
      },
      "execution_count": 58,
      "outputs": []
    },
    {
      "cell_type": "markdown",
      "source": [
        "#Postcode Validator\n",
        "\n",
        "This helper function performs a simple format check on UK postcodes: it upper-cases the input, then uses a regular expression to enforce the basic structure (one or two letters, a digit or “R”, an optional alphanumeric, a space, a digit, and two letters). It returns True if the postcode matches the pattern, or False otherwise—serving as a quick, mock validation step in the pipeline."
      ],
      "metadata": {
        "id": "a-eU8EH8GXfu"
      }
    },
    {
      "cell_type": "code",
      "source": [
        "def uk_postcode_validator(postcode: str) -> bool:\n",
        "    \"\"\"Validates a UK postcode format. This is a mock implementation.\"\"\"\n",
        "    # A very basic regex for UK postcodes.\n",
        "    pattern = re.compile(r\"^[A-Z]{1,2}[0-9R][0-9A-Z]? [0-9][A-Z]{2}$\")\n",
        "    return bool(pattern.match(postcode.upper()))"
      ],
      "metadata": {
        "id": "69Rj3m_pX404"
      },
      "execution_count": 59,
      "outputs": []
    },
    {
      "cell_type": "markdown",
      "source": [
        "#Politically Exposed Persons Check Tool\n",
        "\n",
        "This pep_sanction_check tool wraps a sanctions‐list lookup (decorated for Agent use). It lowercases the input name and first does a direct membership check against the mock FRAUDULENT_NAMES list—returning a \"fail\" if there’s an exact match. If there’s no exact hit, it then runs a fuzzy string similarity (rapidfuzz) against the same list; if the best match scores above 80%, it returns \"manual_verification\" with the matching name and score. If neither check flags the name, it returns \"pass\", indicating the applicant isn’t on—or close to—any watchlist entries."
      ],
      "metadata": {
        "id": "AXrhaMVoGiRK"
      }
    },
    {
      "cell_type": "code",
      "source": [
        "@function_tool(strict_mode=False)\n",
        "def pep_sanction_check(name: str) -> PepSanctionResult:\n",
        "    \"\"\"\n",
        "    Checks if a name is on a Political Exposed Person (PEP) or sanctions list, with fuzzy matching.\n",
        "    Returns 'fail' for exact, 'manual_verification' for close matches, 'pass' otherwise.\n",
        "    \"\"\"\n",
        "    print(f\"   - Checking PEP/sanctions for: {name}\")\n",
        "    name_lower = name.lower()\n",
        "    # Exact match\n",
        "    if name_lower in FRAUDULENT_NAMES:\n",
        "        return {\"status\": \"fail\", \"reason\": \"Name found on a watchlist (exact match).\"}\n",
        "\n",
        "    # Fuzzy match\n",
        "    best_match = None\n",
        "    score = 0\n",
        "    try:\n",
        "        best_match, score, _ = process.extractOne(name_lower, FRAUDULENT_NAMES, scorer=fuzz.ratio)\n",
        "    except Exception:\n",
        "        pass\n",
        "    if best_match and score > 80:\n",
        "        return {\"status\": \"manual_verification\", \"reason\": f\"Name similar to watchlist entry: '{best_match}' (score: {score})\"}\n",
        "\n",
        "    return {\"status\": \"pass\", \"reason\": None}"
      ],
      "metadata": {
        "id": "XHVdW11XX6o8"
      },
      "execution_count": 60,
      "outputs": []
    },
    {
      "cell_type": "markdown",
      "source": [
        "#Identity Verification Check Tool\n",
        "\n",
        "This identity_verification function (exposed as an Agent tool via @function_tool) mocks an identity‐document check by scanning the provided document content string: it prints a verification message, treats any content containing the substring \"invalid\" as a failure (returning {\"status\": \"fail\", \"reason\": \"Document is invalid.\"}), and otherwise returns {\"status\": \"pass\", \"reason\": None}. It’s a stand-in for what would, in production, be a call to a real identity-verification service or library."
      ],
      "metadata": {
        "id": "IkFwr4jBG8Oc"
      }
    },
    {
      "cell_type": "code",
      "source": [
        "@function_tool(strict_mode=False)\n",
        "def identity_verification(document_content: str) -> IdentityVerificationResult:\n",
        "    \"\"\"\n",
        "    Verifies an identity document. This is a mock implementation.\n",
        "    The content of the document is passed as a string.\n",
        "    \"\"\"\n",
        "    print(f\"   - Verifying identity document...\")\n",
        "    if \"invalid\" in document_content:\n",
        "        return {\"status\": \"fail\", \"reason\": \"Document is invalid.\"}\n",
        "    return {\"status\": \"pass\", \"reason\": None}"
      ],
      "metadata": {
        "id": "yAb2N3XjX6ue"
      },
      "execution_count": 61,
      "outputs": []
    },
    {
      "cell_type": "markdown",
      "source": [
        "#Affordability Check Tool\n",
        "\n",
        "This assess_affordability tool evaluates whether a requested loan is reasonable given the applicant’s income by computing a simple debt-to-income (DTI) ratio. It first prints a log message, then rejects any non-positive inputs. It calculates dti = loan_amount / income and fails outright if DTI exceeds 0.4 (loan > 40% of income), flags for manual review if DTI sits between 0.3 and 0.4, and also fails if the income itself is below a minimum threshold (here £10,000). Only applications with a DTI ≤ 0.3 and sufficient income return a \"pass\" status."
      ],
      "metadata": {
        "id": "wBz0TgKdHRDd"
      }
    },
    {
      "cell_type": "code",
      "source": [
        "@function_tool(strict_mode=False)\n",
        "def assess_affordability(income: int, loan_amount: int) -> AffordabilityResult:\n",
        "    \"\"\"\n",
        "    Assesses the applicant's loan affordability based on income and loan amount.\n",
        "    This is a mock implementation with a slightly more sophisticated check.\n",
        "    \"\"\"\n",
        "    print(f\"   - Assessing affordability for income {income} and loan {loan_amount}\")\n",
        "\n",
        "    # Basic DTI (Debt-to-Income) ratio check\n",
        "    if income <= 0 or loan_amount <= 0:\n",
        "        return {\"status\": \"fail\", \"reason\": \"Income and loan amount must be positive numbers.\"}\n",
        "\n",
        "    dti = loan_amount / income  # Debt-to-Income ratio\n",
        "\n",
        "    # Fail if DTI is above 0.4 (i.e., loan is more than 40% of annual income)\n",
        "    if dti > 0.4:\n",
        "        return {\n",
        "            \"status\": \"fail\",\n",
        "            \"reason\": f\"Loan amount is too high relative to income (DTI: {dti:.2f}).\"\n",
        "        }\n",
        "    # Warn if DTI is between 0.3 and 0.4 (manual verification)\n",
        "    if 0.3 < dti <= 0.4:\n",
        "        return {\n",
        "            \"status\": \"manual_verification\",\n",
        "            \"reason\": f\"Loan amount is moderately high relative to income (DTI: {dti:.2f}).\"\n",
        "        }\n",
        "    # Also fail if income is below a minimum threshold (e.g., £10,000)\n",
        "    if income < 10000:\n",
        "        return {\n",
        "            \"status\": \"fail\",\n",
        "            \"reason\": \"Income below minimum threshold for loan consideration.\"\n",
        "        }\n",
        "    return {\"status\": \"pass\", \"reason\": None}"
      ],
      "metadata": {
        "id": "yN0nKP1qX6zz"
      },
      "execution_count": 62,
      "outputs": []
    },
    {
      "cell_type": "markdown",
      "source": [
        "#Source of Wealth Check Tool\n",
        "\n",
        "This source_of_wealth_check tool (decorated for the compliance agent) mocks a source-of-funds review by printing the provided description and then performing a simple keyword check: if the lowercased text contains “illegal,” it returns a \"fail\" status with a “Suspicious source of wealth” reason; otherwise it returns \"pass\". It stands in for what, in production, would be a call to a dedicated source-of-wealth verification service."
      ],
      "metadata": {
        "id": "rrxNO6FBH_oi"
      }
    },
    {
      "cell_type": "code",
      "source": [
        "@function_tool(strict_mode=False)\n",
        "def source_of_wealth_check(source_description: str) -> SourceOfWealthResult:\n",
        "    \"\"\"\n",
        "    Verifies the applicant's source of wealth. This is a mock implementation.\n",
        "    \"\"\"\n",
        "    print(f\"   - Checking source of wealth: {source_description}\")\n",
        "    if \"illegal\" in source_description.lower():\n",
        "        return {\"status\": \"fail\", \"reason\": \"Suspicious source of wealth.\"}\n",
        "    return {\"status\": \"pass\", \"reason\": None}\n"
      ],
      "metadata": {
        "id": "W_g-_TqqX65O"
      },
      "execution_count": 63,
      "outputs": []
    },
    {
      "cell_type": "markdown",
      "source": [
        "#Phone Number Validation Check Tool\n",
        "\n",
        "This phone_number_validator tool wraps Google’s libphonenumber to verify that a given string is a valid phone number for the specified region (defaulting to “GB”). It attempts to parse the input with phonenumbers.parse(), then returns the result of phonenumbers.is_valid_number(). If parsing throws a NumberParseException, it catches it and returns False, so callers get a simple True/False response indicating validity."
      ],
      "metadata": {
        "id": "_Tr4zVD6IHxx"
      }
    },
    {
      "cell_type": "code",
      "source": [
        "@function_tool(strict_mode=False)\n",
        "def phone_number_validator(phone_number: str, region: str = \"GB\") -> bool:\n",
        "    \"\"\"\n",
        "    Validates a phone number using Google's libphonenumber.\n",
        "    Returns True if valid, False otherwise.\n",
        "    \"\"\"\n",
        "    try:\n",
        "        parsed = phonenumbers.parse(phone_number, region)\n",
        "        return phonenumbers.is_valid_number(parsed)\n",
        "    except NumberParseException:\n",
        "        return False\n"
      ],
      "metadata": {
        "id": "ouJ2RiRSX7QO"
      },
      "execution_count": 64,
      "outputs": []
    },
    {
      "cell_type": "markdown",
      "source": [
        "#Fraud Detection Check Tool\n",
        "\n",
        "This fraud_detection tool takes the full ApplicationData dict and runs a couple of quick checks to flag potential fraud: it logs that it’s running, lowercases the applicant’s name and adds a “Name is on a watchlist” flag (and +0.8 to the score) if it exactly matches one of the mock FRAUDULENT_NAMES, then calls the uk_postcode_validator to check the postcode—adding “Invalid UK postcode” and +0.3 to the score if that fails. It returns a fraud_score (capped at 1.0) plus any accumulated flags, serving as a simple, mock fraud‐risk assessment."
      ],
      "metadata": {
        "id": "hvi4eDNwIcC4"
      }
    },
    {
      "cell_type": "code",
      "source": [
        "@function_tool(strict_mode=False)\n",
        "def fraud_detection(application: ApplicationData) -> FraudDetectionResult:\n",
        "    \"\"\"\n",
        "    Detects fraud signals in the application data. Mock implementation.\n",
        "    \"\"\"\n",
        "    print(f\"   - Running fraud detection...\")\n",
        "    flags = []\n",
        "    score = 0.0\n",
        "    name = application[\"full_name\"].lower()\n",
        "    if name in FRAUDULENT_NAMES:\n",
        "        flags.append(\"Name is on a watchlist.\")\n",
        "        score += 0.8\n",
        "    if not uk_postcode_validator(application[\"postcode\"]):\n",
        "        flags.append(\"Invalid UK postcode.\")\n",
        "        score += 0.3\n",
        "\n",
        "    return {\"fraud_score\": min(1.0, score), \"flags\": flags}"
      ],
      "metadata": {
        "id": "FOmEmBpgX7WB"
      },
      "execution_count": 65,
      "outputs": []
    },
    {
      "cell_type": "markdown",
      "source": [
        "#Send Alert Tool\n",
        "\n",
        "This send_alert tool is a mock notification function decorated for Agent use: it takes a message string, prints out \" - Sending alert: {message}\" to simulate dispatching (e.g., via email or SMS), and returns a {\"status\": \"sent\"} dictionary—standing in for what would, in production, be a real alerting service call."
      ],
      "metadata": {
        "id": "OYmdNbrBIohO"
      }
    },
    {
      "cell_type": "code",
      "source": [
        "@function_tool(strict_mode=False)\n",
        "def send_alert(message: str) -> SendAlertResult:\n",
        "    \"\"\"Sends an alert. Mock implementation.\"\"\"\n",
        "    # TODO: Replace with real MCP call to an alerting service (e.g., email, SMS).\n",
        "    print(f\"   - Sending alert: {message}\")\n",
        "    return {\"status\": \"sent\"}"
      ],
      "metadata": {
        "id": "qkTNVMyvYPD5"
      },
      "execution_count": 66,
      "outputs": []
    },
    {
      "cell_type": "markdown",
      "source": [
        "#Deterministic Application Processor\n",
        "\n",
        "This application_processor function performs the first, non-AI validation step by examining the AppState’s application_data dict for required fields (full_name, income, loan_amount, document_id, source_of_wealth, postcode). It logs “Step 1: Processing application…,” collects any missing fields into an alert message if they’re empty or absent, updates the state’s alerts and sets state[\"status\"] to \"incomplete\" when fields are missing—or to \"validated\" if everything is present—and then prints out the resulting status before returning the updated state."
      ],
      "metadata": {
        "id": "RcgZtSXCJPLp"
      }
    },
    {
      "cell_type": "code",
      "source": [
        "def application_processor(state: AppState) -> AppState:\n",
        "    \"\"\"\n",
        "    Validates the initial application for completeness.\n",
        "    This is a deterministic step.\n",
        "    \"\"\"\n",
        "    print(\"Step 1: Processing application...\")\n",
        "    app = state[\"application_data\"]\n",
        "\n",
        "    required_fields = [\"full_name\", \"income\", \"loan_amount\", \"document_id\", \"source_of_wealth\", \"postcode\"]\n",
        "    missing_fields = [field for field in required_fields if not app.get(field)]\n",
        "\n",
        "    if missing_fields:\n",
        "        state[\"alerts\"].append(f\"Application incomplete. Missing fields: {', '.join(missing_fields)}\")\n",
        "        state[\"status\"] = \"incomplete\"\n",
        "    else:\n",
        "        state[\"status\"] = \"validated\"\n",
        "    print(f\"Application status: {state['status']}\")\n",
        "    return state"
      ],
      "metadata": {
        "id": "NrxUEZuVQlay"
      },
      "execution_count": 67,
      "outputs": []
    },
    {
      "cell_type": "markdown",
      "source": [
        "#Compliance Agent\n",
        "\n",
        "This snippet instantiates the compliance_agent, configuring it as an AI “compliance officer” that uses the defined tools to vet a loan application. It has a name (“ComplianceAgent”), a set of plain-English instructions telling it to run each of the compliance checks (PEP/sanctions, identity, affordability, source-of-wealth, and phone-number validation) and to return a consolidated JSON summary, specify the gpt-4o-mini model, and pass in exactly those five tool functions—so that when the agent is invoked, it knows which checks to perform and how to package their outputs."
      ],
      "metadata": {
        "id": "HSeDvFr5IpUi"
      }
    },
    {
      "cell_type": "code",
      "source": [
        "compliance_agent = Agent(\n",
        "    name=\"ComplianceAgent\",\n",
        "    instructions=\"\"\"\n",
        "    You are a compliance officer. Use the provided tools to perform all required compliance checks on the loan application.\n",
        "    The user will provide the application data as a prompt.\n",
        "    You must call all relevant tools based on the application data (pep_sanction_check, identity_verification, assess_affordability, source_of_wealth_check, phone_number_validator).\n",
        "    Consolidate the results from all checks into a single JSON object.\n",
        "    \"\"\",\n",
        "    model=\"gpt-4o-mini\",\n",
        "    tools=[\n",
        "        pep_sanction_check,\n",
        "        identity_verification,\n",
        "        assess_affordability,\n",
        "        source_of_wealth_check,\n",
        "        phone_number_validator,\n",
        "    ],\n",
        ")"
      ],
      "metadata": {
        "id": "33dd5vQVYcMC"
      },
      "execution_count": 68,
      "outputs": []
    },
    {
      "cell_type": "markdown",
      "source": [
        "#Fraud Agent\n",
        "\n",
        "This defines the fraud_agent as an AI specialist whose sole purpose is to run the fraud_detection tool on an application and return its results. It’s named \"FraudAgent\", uses the gpt-4o-mini model, and is given clear instructions to output a plain Python dictionary with a float fraud_score and a list of English flags. If anything goes wrong during execution, it must default to a maximum risk (fraud_score = 1.0) and include an explanatory flag—without wrapping any of that in markdown or extra formatting."
      ],
      "metadata": {
        "id": "bjSv4rjoJ7lq"
      }
    },
    {
      "cell_type": "code",
      "source": [
        "fraud_agent = Agent(\n",
        "    name=\"FraudAgent\",\n",
        "    instructions=\"\"\"\n",
        "    You are a fraud detection specialist. Use the fraud_detection tool to assess the application for fraud risk.\n",
        "    Always return a dictionary with keys 'fraud_score' (float) and 'flags' (list of strings).\n",
        "    If you encounter an error, set 'fraud_score' to 1.0 and add a relevant message to 'flags'.\n",
        "    Never include markdown, code blocks, or embedded JSON in the 'flags' list. Only return plain English strings.\n",
        "    \"\"\",\n",
        "    model=\"gpt-4o-mini\",\n",
        "    tools=[fraud_detection],\n",
        ")"
      ],
      "metadata": {
        "id": "NEOWb26mYchd"
      },
      "execution_count": 69,
      "outputs": []
    },
    {
      "cell_type": "markdown",
      "source": [
        "#Decision Agent\n",
        "\n",
        "This creates the decision_agent configured to synthesize the outputs of the compliance and fraud checks into a final loan decision. It’s named \"DecisionAgent\", uses the gpt-4o-mini model, and receives instructions to output a JSON object (without any Markdown fencing) containing two keys—decision (one of \"approved\", \"rejected\", or \"escalated\") and reason (a single-sentence explanation). The logic it’s guided to follow is: escalate when compliance fails but fraud is low, reject when fraud score exceeds 0.7, and approve when all compliance checks pass and fraud risk is low."
      ],
      "metadata": {
        "id": "BqaZYSOaJ8sj"
      }
    },
    {
      "cell_type": "code",
      "source": [
        "decision_agent = Agent(\n",
        "    name=\"DecisionAgent\",\n",
        "    instructions=\"\"\"\n",
        "    Based on the compliance and fraud results, decide if the loan application should be 'approved', 'rejected' or 'escalated'.\n",
        "    Provide a clear one-sentence reason for your decision.\n",
        "    - Escalate if compliance checks have failed but fraud risk is low.\n",
        "    - Reject if fraud risk is high (score > 0.7).\n",
        "    - Approve if all checks pass and fraud score is low.\n",
        "    Return a dictionary with 'decision' and 'reason'.\n",
        "    **Return your answer as raw JSON only, with no markdown fences or prose.**\n",
        "    \"\"\",\n",
        "    model=\"gpt-4o-mini\",\n",
        ")"
      ],
      "metadata": {
        "id": "DmF05iTzYcnH"
      },
      "execution_count": 70,
      "outputs": []
    },
    {
      "cell_type": "markdown",
      "source": [
        "#Alert Agent\n",
        "\n",
        "This snippet sets up the alert_agent, an AI-powered notification service: it’s named \"AlertAgent\", uses the gpt-4o-mini model, and is wired to use the send_alert tool. Its instructions tell it to take any incoming message—whether prompting the user about missing fields, compliance failures, or the final decision—and dispatch it via send_alert in a friendly, professional, and supportive tone, helping the applicant understand the next steps or issues with their loan application."
      ],
      "metadata": {
        "id": "WaRtFK4MJ9cT"
      }
    },
    {
      "cell_type": "code",
      "source": [
        "alert_agent = Agent(\n",
        "    name=\"AlertAgent\",\n",
        "    instructions=\"\"\"\n",
        "    You are an alerting agent for a loan application service.\n",
        "    When provided with a message, use the send_alert tool to deliver it to the user.\n",
        "    Ensure the message is communicated in a friendly, professional, and supportive tone,\n",
        "    helping the user understand any issues or next steps regarding their loan application.\n",
        "    \"\"\",\n",
        "    model=\"gpt-4o-mini\",\n",
        "    tools=[send_alert],\n",
        ")"
      ],
      "metadata": {
        "id": "Q2ONtsoVUK5_"
      },
      "execution_count": 71,
      "outputs": []
    },
    {
      "cell_type": "markdown",
      "source": [
        "# Main Workflow Orchestration\n",
        "\n",
        "This run_workflow coroutine ties together all the pieces into a full loan‐processing pipeline: it initializes the shared AppState, performs a deterministic completeness check (alerting and exiting early if fields are missing), then concurrently invokes the compliance and fraud agents on the application data. Once those finish, it calls the decision agent—parsing its JSON output (with a built-in fallback to simple rules if parsing or the LLM fails)—stores the final verdict and reason, and finally uses the alert agent to send the outcome to the user. Throughout, it logs each major step so its possible to trace the workflow’s progress in the notebook."
      ],
      "metadata": {
        "id": "603pgOOTJ-Os"
      }
    },
    {
      "cell_type": "code",
      "source": [
        "async def run_workflow(application: dict):\n",
        "    \"\"\"\n",
        "    Orchestrates the loan application workflow using OpenAI Agents SDK.\n",
        "    \"\"\"\n",
        "    print(\"🚀 Starting Hybrid Agentic Workflow...\")\n",
        "    # Initialize state\n",
        "    state = AppState(\n",
        "        application_data=application,\n",
        "        status=\"new\",\n",
        "        compliance_result=None,\n",
        "        fraud_result=None,\n",
        "        decision_result=None,\n",
        "        decision_reason=None,\n",
        "        alerts=[],\n",
        "        alert_summary=None,\n",
        "        metrics={},\n",
        "    )\n",
        "\n",
        "    # 1. Deterministic validation\n",
        "    state = application_processor(state)\n",
        "\n",
        "    # 2. Handle incomplete application\n",
        "    if state[\"status\"] == \"incomplete\":\n",
        "        print(\"\\nStep 2: Application incomplete. Sending alert.\")\n",
        "        alert_message = state[\"alerts\"][0]\n",
        "        result = await Runner.run(alert_agent, f\"The application is incomplete. Please inform the user with the following message: {alert_message}\")\n",
        "        state[\"alert_summary\"] = result.final_output\n",
        "        print(\"Workflow finished: Application incomplete.\")\n",
        "        return state\n",
        "\n",
        "    # 3. Parallel Compliance and Fraud checks\n",
        "    print(\"\\nStep 2: Running Compliance and Fraud agents in parallel...\")\n",
        "    compliance_prompt = f\"Please run compliance checks for this application: {json.dumps(state['application_data'])}\"\n",
        "    fraud_prompt = f\"Please run a fraud check for this application: {json.dumps(state['application_data'])}\"\n",
        "\n",
        "    # Use asyncio.gather to run agents concurrently\n",
        "    compliance_task = Runner.run(compliance_agent, compliance_prompt)\n",
        "    fraud_task = Runner.run(fraud_agent, fraud_prompt)\n",
        "\n",
        "    results = await asyncio.gather(compliance_task, fraud_task)\n",
        "\n",
        "    state[\"compliance_result\"] = results[0].final_output\n",
        "    state[\"fraud_result\"] = results[1].final_output\n",
        "    print(f\"Compliance result: {state['compliance_result']}\")\n",
        "    print(f\"Fraud result: {state['fraud_result']}\")\n",
        "\n",
        "    # 4. Decision Agent\n",
        "    print(\"\\nStep 3: Running Decision agent...\")\n",
        "    decision_prompt = f\"\"\"\n",
        "Please make a decision based on these results:\n",
        "Compliance: {state['compliance_result']}\n",
        "Fraud: {state['fraud_result']}\n",
        "\"\"\"\n",
        "    try:\n",
        "        result = await Runner.run(decision_agent, decision_prompt)\n",
        "        decision_output = result.final_output\n",
        "        # Try to parse string output as JSON if needed\n",
        "        if isinstance(decision_output, str):\n",
        "            try:\n",
        "                decision_output = json.loads(decision_output)\n",
        "            except Exception:\n",
        "                #pass\n",
        "                raise\n",
        "        if isinstance(decision_output, dict):\n",
        "            state[\"decision_result\"] = decision_output.get(\"decision\")\n",
        "            state[\"decision_reason\"] = decision_output.get(\"reason\")\n",
        "        else:\n",
        "            raise ValueError(\"Decision agent output is not a dict.\")\n",
        "    except Exception as e:\n",
        "        print(f\"[Decision Agent] LLM failed: {e}. Using fallback logic.\")\n",
        "        # Fallback deterministic rules\n",
        "        comp = state[\"compliance_result\"]\n",
        "        fraud = state[\"fraud_result\"]\n",
        "        # Ensure comp is a dict before using .values()\n",
        "        affordability_pass = False\n",
        "        if isinstance(comp, dict):\n",
        "            affordability_pass = all(\n",
        "                (c.get('status') == 'pass')\n",
        "                for c in comp.values() if isinstance(c, dict)\n",
        "            )\n",
        "        # Ensure fraud is a dict before using .get()\n",
        "        fraud_score = 1.0\n",
        "        if isinstance(fraud, dict):\n",
        "            fraud_score = fraud.get(\"fraud_score\", 1.0)\n",
        "        if affordability_pass and fraud_score < 0.7:\n",
        "            state[\"decision_result\"] = \"approved\"\n",
        "            state[\"decision_reason\"] = \"Fallback: Checks passed and fraud risk is below threshold.\"\n",
        "        else:\n",
        "            state[\"decision_result\"] = \"rejected\"\n",
        "            state[\"decision_reason\"] = \"Fallback: Checks failed or fraud risk is too high.\"\n",
        "\n",
        "    print(f\"Decision: {state['decision_result']} - Reason: {state['decision_reason']}\")\n",
        "\n",
        "    # 5. Alerting\n",
        "    print(\"\\nStep 4: Sending final notification alert...\")\n",
        "    alert_message = f\"Loan application decision: {state['decision_result']}. Reason: {state['decision_reason']}\"\n",
        "    await Runner.run(alert_agent, alert_message)\n",
        "    print(\"\\n✅ Workflow finished.\")\n",
        "    return state\n"
      ],
      "metadata": {
        "id": "xyOQ4rvcUQNs"
      },
      "execution_count": 72,
      "outputs": []
    },
    {
      "cell_type": "markdown",
      "source": [
        "#Run Loan Application Check With Dummy Data\n",
        "\n",
        "This final section defines an async def main() driver that runs four illustrative scenarios—clean, fraudulent, fuzzy-name/manual‐verification, and incomplete applications—calling run_workflow() on each, printing headers and the resulting state for easy inspection. It then provides the standard if __name__ == \"__main__\": guard, re‐applying nest_asyncio (since Colab or other environments may already have an event loop) and invoking asyncio.run(main()) so the notebook or script actually executes all four end‐to‐end demonstrations when the notebook is launched."
      ],
      "metadata": {
        "id": "4IG8LDZ2J-yj"
      }
    },
    {
      "cell_type": "code",
      "source": [
        "async def main():\n",
        "    # Example 1: A good application\n",
        "    print(\"--- Running Scenario 1: Clean Application ---\")\n",
        "    clean_application = {\n",
        "        \"full_name\": \"Alice Wonderland\",\n",
        "        \"income\": 80000,\n",
        "        \"loan_amount\": 15000,\n",
        "        \"document_id\": \"valid_passport.pdf\",\n",
        "        \"source_of_wealth\": \"employment\",\n",
        "        \"postcode\": \"SW1A 0AA\",\n",
        "        \"phone_number\": \"+447911123456\"\n",
        "    }\n",
        "    final_state_1 = await run_workflow(clean_application)\n",
        "    print(\"\\n--- FINAL STATE (Scenario 1) ---\")\n",
        "    print(final_state_1)\n",
        "\n",
        "    print(\"\\n\\n\" + \"=\"*50 + \"\\n\")\n",
        "\n",
        "    # Example 2: A fraudulent application\n",
        "    print(\"--- Running Scenario 2: Fraudulent Application ---\")\n",
        "    fraudulent_application = {\n",
        "        \"full_name\": \"John Shady\",\n",
        "        \"income\": 50000,\n",
        "        \"loan_amount\": 25000,\n",
        "        \"document_id\": \"valid_id.jpg\",\n",
        "        \"source_of_wealth\": \"inheritance\",\n",
        "        \"postcode\": \"B4D C0D3\", # Invalid postcode\n",
        "        \"phone_number\": \"07911123456\"  # Invalid format (missing +44)\n",
        "    }\n",
        "    final_state_2 = await run_workflow(fraudulent_application)\n",
        "    print(\"\\n--- FINAL STATE (Scenario 2) ---\")\n",
        "    print(final_state_2)\n",
        "\n",
        "    print(\"\\n\\n\" + \"=\"*50 + \"\\n\")\n",
        "\n",
        "    # Example 3: A similar name (should trigger manual verification)\n",
        "    print(\"--- Running Scenario 3: Similar Name (Manual Verification) ---\")\n",
        "    similar_name_application = {\n",
        "        \"full_name\": \"Jon Shadey\",  # Similar to 'john shady'\n",
        "        \"income\": 60000,\n",
        "        \"loan_amount\": 10000,\n",
        "        \"document_id\": \"valid_id.jpg\",\n",
        "        \"source_of_wealth\": \"salary\",\n",
        "        \"postcode\": \"EC1A 1BB\",\n",
        "        \"phone_number\": \"+447911654321\"\n",
        "    }\n",
        "    final_state_3 = await run_workflow(similar_name_application)\n",
        "    print(\"\\n--- FINAL STATE (Scenario 3) ---\")\n",
        "    print(final_state_3)\n",
        "\n",
        "    print(\"\\n\\n\" + \"=\"*50 + \"\\n\")\n",
        "\n",
        "    # Example 4: Incomplete application (should trigger an alert)\n",
        "    print(\"--- Running Scenario 4: Incomplete Application (Missing Fields) ---\")\n",
        "    incomplete_application = {\n",
        "        \"full_name\": \"Bob Missingfields\",\n",
        "        # \"income\" is missing\n",
        "        \"loan_amount\": 5000,\n",
        "        # \"document_id\" is missing\n",
        "        \"source_of_wealth\": \"savings\",\n",
        "        \"postcode\": \"W1A 1AA\",\n",
        "        \"phone_number\": \"+447911000000\"\n",
        "    }\n",
        "    final_state_4 = await run_workflow(incomplete_application)\n",
        "    print(\"\\n--- FINAL STATE (Scenario 4) ---\")\n",
        "    print(final_state_4)\n",
        "\n",
        "\n",
        "# ---------------------------\n",
        "# Entry point\n",
        "# ---------------------------\n",
        "if __name__ == \"__main__\":\n",
        "    # Ensure you have set the OPENAI_API_KEY environment variable\n",
        "    import nest_asyncio, asyncio\n",
        "    nest_asyncio.apply()\n",
        "    asyncio.run(main())\n",
        "\n"
      ],
      "metadata": {
        "colab": {
          "base_uri": "https://localhost:8080/"
        },
        "id": "G64Juyy2vb4E",
        "outputId": "dc5c5ee2-c671-4d5e-fefd-acd6cf39a22f"
      },
      "execution_count": 73,
      "outputs": [
        {
          "output_type": "stream",
          "name": "stdout",
          "text": [
            "--- Running Scenario 1: Clean Application ---\n",
            "🚀 Starting Hybrid Agentic Workflow...\n",
            "Step 1: Processing application...\n",
            "Application status: validated\n",
            "\n",
            "Step 2: Running Compliance and Fraud agents in parallel...\n",
            "   - Running fraud detection...\n",
            "   - Checking PEP/sanctions for: Alice Wonderland\n",
            "   - Verifying identity document...\n",
            "   - Assessing affordability for income 80000 and loan 15000\n",
            "   - Checking source of wealth: employment\n",
            "Compliance result: Here are the results of the compliance checks for the loan application:\n",
            "\n",
            "```json\n",
            "{\n",
            "  \"pep_sanction_check\": {\n",
            "    \"status\": \"pass\",\n",
            "    \"reason\": null\n",
            "  },\n",
            "  \"identity_verification\": {\n",
            "    \"status\": \"pass\",\n",
            "    \"reason\": null\n",
            "  },\n",
            "  \"assess_affordability\": {\n",
            "    \"status\": \"pass\",\n",
            "    \"reason\": null\n",
            "  },\n",
            "  \"source_of_wealth_check\": {\n",
            "    \"status\": \"pass\",\n",
            "    \"reason\": null\n",
            "  },\n",
            "  \"phone_number_validator\": {\n",
            "    \"status\": \"valid\",\n",
            "    \"reason\": null\n",
            "  }\n",
            "}\n",
            "``` \n",
            "\n",
            "All compliance checks have passed successfully.\n",
            "Fraud result: {\"fraud_score\":0.0,\"flags\":[]}\n",
            "\n",
            "Step 3: Running Decision agent...\n",
            "Decision: approved - Reason: All compliance checks have passed and the fraud score is low.\n",
            "\n",
            "Step 4: Sending final notification alert...\n",
            "   - Sending alert: Congratulations! Your loan application has been approved. All compliance checks have passed, and your fraud score is low, which means you can proceed confidently. If you have any questions or need further assistance, feel free to reach out!\n",
            "\n",
            "✅ Workflow finished.\n",
            "\n",
            "--- FINAL STATE (Scenario 1) ---\n",
            "{'application_data': {'full_name': 'Alice Wonderland', 'income': 80000, 'loan_amount': 15000, 'document_id': 'valid_passport.pdf', 'source_of_wealth': 'employment', 'postcode': 'SW1A 0AA', 'phone_number': '+447911123456'}, 'status': 'validated', 'compliance_result': 'Here are the results of the compliance checks for the loan application:\\n\\n```json\\n{\\n  \"pep_sanction_check\": {\\n    \"status\": \"pass\",\\n    \"reason\": null\\n  },\\n  \"identity_verification\": {\\n    \"status\": \"pass\",\\n    \"reason\": null\\n  },\\n  \"assess_affordability\": {\\n    \"status\": \"pass\",\\n    \"reason\": null\\n  },\\n  \"source_of_wealth_check\": {\\n    \"status\": \"pass\",\\n    \"reason\": null\\n  },\\n  \"phone_number_validator\": {\\n    \"status\": \"valid\",\\n    \"reason\": null\\n  }\\n}\\n``` \\n\\nAll compliance checks have passed successfully.', 'fraud_result': '{\"fraud_score\":0.0,\"flags\":[]}', 'decision_result': 'approved', 'decision_reason': 'All compliance checks have passed and the fraud score is low.', 'alerts': [], 'alert_summary': None, 'metrics': {}}\n",
            "\n",
            "\n",
            "==================================================\n",
            "\n",
            "--- Running Scenario 2: Fraudulent Application ---\n",
            "🚀 Starting Hybrid Agentic Workflow...\n",
            "Step 1: Processing application...\n",
            "Application status: validated\n",
            "\n",
            "Step 2: Running Compliance and Fraud agents in parallel...\n",
            "   - Running fraud detection...\n",
            "   - Checking PEP/sanctions for: John Shady\n",
            "   - Verifying identity document...\n",
            "   - Assessing affordability for income 50000 and loan 25000\n",
            "   - Checking source of wealth: inheritance\n",
            "Compliance result: Here are the results of the compliance checks for the loan application:\n",
            "\n",
            "```json\n",
            "{\n",
            "  \"pep_sanction_check\": {\n",
            "    \"status\": \"fail\",\n",
            "    \"reason\": \"Name found on a watchlist (exact match).\"\n",
            "  },\n",
            "  \"identity_verification\": {\n",
            "    \"status\": \"pass\",\n",
            "    \"reason\": null\n",
            "  },\n",
            "  \"assess_affordability\": {\n",
            "    \"status\": \"fail\",\n",
            "    \"reason\": \"Loan amount is too high relative to income (DTI: 0.50).\"\n",
            "  },\n",
            "  \"source_of_wealth_check\": {\n",
            "    \"status\": \"pass\",\n",
            "    \"reason\": null\n",
            "  },\n",
            "  \"phone_number_validator\": {\n",
            "    \"status\": \"pass\",\n",
            "    \"reason\": null\n",
            "  }\n",
            "}\n",
            "```\n",
            "\n",
            "### Summary of Results:\n",
            "- **PEP/Sanction Check**: Fail (Name found on a watchlist)\n",
            "- **Identity Verification**: Pass\n",
            "- **Affordability Assessment**: Fail (Loan amount considered too high)\n",
            "- **Source of Wealth Check**: Pass\n",
            "- **Phone Number Validation**: Pass\n",
            "\n",
            "### Recommendations:\n",
            "Due to the \"fail\" results from the PEP/Sanction Check and Affordability Assessment, it is advisable to review these aspects closely before proceeding with the loan application.\n",
            "Fraud result: {\"fraud_score\":1.0,\"flags\":[\"Name is on a watchlist.\",\"Invalid UK postcode.\"]}\n",
            "\n",
            "Step 3: Running Decision agent...\n",
            "Decision: rejected - Reason: The fraud risk is high due to a fraud score of 1.0.\n",
            "\n",
            "Step 4: Sending final notification alert...\n",
            "   - Sending alert: We regret to inform you that your loan application has been rejected. The primary reason is that our system identified a high fraud risk, indicated by a fraud score of 1.0. We understand this may be disappointing news. If you'd like to discuss the decision or explore other options, please feel free to reach out. We're here to help you!\n",
            "\n",
            "✅ Workflow finished.\n",
            "\n",
            "--- FINAL STATE (Scenario 2) ---\n",
            "{'application_data': {'full_name': 'John Shady', 'income': 50000, 'loan_amount': 25000, 'document_id': 'valid_id.jpg', 'source_of_wealth': 'inheritance', 'postcode': 'B4D C0D3', 'phone_number': '07911123456'}, 'status': 'validated', 'compliance_result': 'Here are the results of the compliance checks for the loan application:\\n\\n```json\\n{\\n  \"pep_sanction_check\": {\\n    \"status\": \"fail\",\\n    \"reason\": \"Name found on a watchlist (exact match).\"\\n  },\\n  \"identity_verification\": {\\n    \"status\": \"pass\",\\n    \"reason\": null\\n  },\\n  \"assess_affordability\": {\\n    \"status\": \"fail\",\\n    \"reason\": \"Loan amount is too high relative to income (DTI: 0.50).\"\\n  },\\n  \"source_of_wealth_check\": {\\n    \"status\": \"pass\",\\n    \"reason\": null\\n  },\\n  \"phone_number_validator\": {\\n    \"status\": \"pass\",\\n    \"reason\": null\\n  }\\n}\\n```\\n\\n### Summary of Results:\\n- **PEP/Sanction Check**: Fail (Name found on a watchlist)\\n- **Identity Verification**: Pass\\n- **Affordability Assessment**: Fail (Loan amount considered too high)\\n- **Source of Wealth Check**: Pass\\n- **Phone Number Validation**: Pass\\n\\n### Recommendations:\\nDue to the \"fail\" results from the PEP/Sanction Check and Affordability Assessment, it is advisable to review these aspects closely before proceeding with the loan application.', 'fraud_result': '{\"fraud_score\":1.0,\"flags\":[\"Name is on a watchlist.\",\"Invalid UK postcode.\"]}', 'decision_result': 'rejected', 'decision_reason': 'The fraud risk is high due to a fraud score of 1.0.', 'alerts': [], 'alert_summary': None, 'metrics': {}}\n",
            "\n",
            "\n",
            "==================================================\n",
            "\n",
            "--- Running Scenario 3: Similar Name (Manual Verification) ---\n",
            "🚀 Starting Hybrid Agentic Workflow...\n",
            "Step 1: Processing application...\n",
            "Application status: validated\n",
            "\n",
            "Step 2: Running Compliance and Fraud agents in parallel...\n",
            "   - Running fraud detection...\n",
            "   - Checking PEP/sanctions for: Jon Shadey\n",
            "   - Verifying identity document...\n",
            "   - Assessing affordability for income 60000 and loan 10000\n",
            "   - Checking source of wealth: salary\n",
            "Compliance result: Here's the consolidated compliance check result for the application:\n",
            "\n",
            "```json\n",
            "{\n",
            "  \"pep_sanction_check\": {\n",
            "    \"status\": \"manual_verification\",\n",
            "    \"reason\": \"Name similar to watchlist entry: 'john shady' (score: 90.0)\"\n",
            "  },\n",
            "  \"identity_verification\": {\n",
            "    \"status\": \"pass\",\n",
            "    \"reason\": null\n",
            "  },\n",
            "  \"affordability_assessment\": {\n",
            "    \"status\": \"pass\",\n",
            "    \"reason\": null\n",
            "  },\n",
            "  \"source_of_wealth_check\": {\n",
            "    \"status\": \"pass\",\n",
            "    \"reason\": null\n",
            "  },\n",
            "  \"phone_number_validation\": {\n",
            "    \"status\": \"fail\",\n",
            "    \"reason\": \"Invalid phone number format\"\n",
            "  }\n",
            "}\n",
            "```\n",
            "\n",
            "### Summary:\n",
            "- **PEP/Sanctions Check**: Manual verification required due to name similarity with a watchlist entry.\n",
            "- **Identity Verification**: Passed.\n",
            "- **Affordability Assessment**: Passed.\n",
            "- **Source of Wealth Check**: Passed.\n",
            "- **Phone Number Validation**: Failed; the provided phone number is invalid. \n",
            "\n",
            "Please let me know if any further actions are required!\n",
            "Fraud result: {\"fraud_score\":0.0,\"flags\":[]}\n",
            "\n",
            "Step 3: Running Decision agent...\n",
            "Decision: escalated - Reason: Compliance checks have failed due to an invalid phone number and manual verification needed for PEP/Sanctions check, but fraud risk is low.\n",
            "\n",
            "Step 4: Sending final notification alert...\n",
            "   - Sending alert: Dear Applicant,\n",
            "\n",
            "We wanted to update you regarding your loan application. Currently, your application has been escalated due to compliance checks. Specifically, we were unable to verify the phone number you provided, and manual verification is needed for our PEP (Politically Exposed Persons) and sanctions check. \n",
            "\n",
            "We want to assure you that the fraud risk associated with your application is low. To expedite the process, please confirm your phone number or provide an alternate contact number at your earliest convenience.\n",
            "\n",
            "Thank you for your understanding, and we appreciate your patience as we finalize your application.\n",
            "\n",
            "Best regards,\n",
            "Your Loan Application Team\n",
            "\n",
            "✅ Workflow finished.\n",
            "\n",
            "--- FINAL STATE (Scenario 3) ---\n",
            "{'application_data': {'full_name': 'Jon Shadey', 'income': 60000, 'loan_amount': 10000, 'document_id': 'valid_id.jpg', 'source_of_wealth': 'salary', 'postcode': 'EC1A 1BB', 'phone_number': '+447911654321'}, 'status': 'validated', 'compliance_result': 'Here\\'s the consolidated compliance check result for the application:\\n\\n```json\\n{\\n  \"pep_sanction_check\": {\\n    \"status\": \"manual_verification\",\\n    \"reason\": \"Name similar to watchlist entry: \\'john shady\\' (score: 90.0)\"\\n  },\\n  \"identity_verification\": {\\n    \"status\": \"pass\",\\n    \"reason\": null\\n  },\\n  \"affordability_assessment\": {\\n    \"status\": \"pass\",\\n    \"reason\": null\\n  },\\n  \"source_of_wealth_check\": {\\n    \"status\": \"pass\",\\n    \"reason\": null\\n  },\\n  \"phone_number_validation\": {\\n    \"status\": \"fail\",\\n    \"reason\": \"Invalid phone number format\"\\n  }\\n}\\n```\\n\\n### Summary:\\n- **PEP/Sanctions Check**: Manual verification required due to name similarity with a watchlist entry.\\n- **Identity Verification**: Passed.\\n- **Affordability Assessment**: Passed.\\n- **Source of Wealth Check**: Passed.\\n- **Phone Number Validation**: Failed; the provided phone number is invalid. \\n\\nPlease let me know if any further actions are required!', 'fraud_result': '{\"fraud_score\":0.0,\"flags\":[]}', 'decision_result': 'escalated', 'decision_reason': 'Compliance checks have failed due to an invalid phone number and manual verification needed for PEP/Sanctions check, but fraud risk is low.', 'alerts': [], 'alert_summary': None, 'metrics': {}}\n",
            "\n",
            "\n",
            "==================================================\n",
            "\n",
            "--- Running Scenario 4: Incomplete Application (Missing Fields) ---\n",
            "🚀 Starting Hybrid Agentic Workflow...\n",
            "Step 1: Processing application...\n",
            "Application status: incomplete\n",
            "\n",
            "Step 2: Application incomplete. Sending alert.\n",
            "   - Sending alert: Hello! We wanted to let you know that your loan application is currently incomplete. The following fields are missing: income and document_id. Please complete these sections at your earliest convenience to help us move forward with your application. If you have any questions, feel free to reach out. Thank you!\n",
            "Workflow finished: Application incomplete.\n",
            "\n",
            "--- FINAL STATE (Scenario 4) ---\n",
            "{'application_data': {'full_name': 'Bob Missingfields', 'loan_amount': 5000, 'source_of_wealth': 'savings', 'postcode': 'W1A 1AA', 'phone_number': '+447911000000'}, 'status': 'incomplete', 'compliance_result': None, 'fraud_result': None, 'decision_result': None, 'decision_reason': None, 'alerts': ['Application incomplete. Missing fields: income, document_id'], 'alert_summary': \"The user has been informed that their loan application is incomplete, specifying the missing fields as income and document_id. If there's anything else you need, feel free to ask!\", 'metrics': {}}\n"
          ]
        }
      ]
    }
  ]
}